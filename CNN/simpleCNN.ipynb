{
 "cells": [
  {
   "cell_type": "markdown",
   "source": [
    "# simpleCNN"
   ],
   "metadata": {
    "collapsed": false
   },
   "id": "4892aa55be2975e3"
  },
  {
   "cell_type": "markdown",
   "source": [
    "info: https://github.com/bat67/pytorch-tutorials-examples-and-books/blob/master/7.Convolutional_Neural_Network(CNN)%20%E5%8D%B7%E7%A7%AF%E7%A5%9E%E7%BB%8F%E7%BD%91%E7%BB%9C/simpleCNN.py"
   ],
   "metadata": {
    "collapsed": false
   },
   "id": "6eba770e14a0198f"
  },
  {
   "cell_type": "code",
   "execution_count": 1,
   "outputs": [],
   "source": [
    "import torch \n",
    "from torch import nn, optim "
   ],
   "metadata": {
    "collapsed": false,
    "ExecuteTime": {
     "end_time": "2024-01-18T03:49:35.693291700Z",
     "start_time": "2024-01-18T03:49:31.506533800Z"
    }
   },
   "id": "6183fed46a27abc5"
  },
  {
   "cell_type": "code",
   "execution_count": 2,
   "outputs": [
    {
     "data": {
      "text/plain": "SimpleCNN(\n  (layer1): Sequential(\n    (conv_1): Conv2d(3, 32, kernel_size=(3, 3), stride=(1, 1), padding=(1, 1))\n    (relu_1): ReLU(inplace=True)\n    (pool_1): MaxPool2d(kernel_size=2, stride=2, padding=0, dilation=1, ceil_mode=False)\n  )\n  (layer2): Sequential(\n    (conv_2): Conv2d(32, 64, kernel_size=(3, 3), stride=(1, 1), padding=(1, 1))\n    (relu_2): ReLU(inplace=True)\n    (pool_2): MaxPool2d(kernel_size=2, stride=2, padding=0, dilation=1, ceil_mode=False)\n  )\n  (layer3): Sequential(\n    (conv_3): Conv2d(64, 128, kernel_size=(3, 3), stride=(1, 1), padding=(1, 1))\n    (relu_3): ReLU(inplace=True)\n    (pool_3): MaxPool2d(kernel_size=2, stride=2, padding=0, dilation=1, ceil_mode=False)\n  )\n  (layer4): Sequential(\n    (fc_1): Linear(in_features=2048, out_features=512, bias=True)\n    (fc_relu1): ReLU()\n    (fc_2): Linear(in_features=512, out_features=64, bias=True)\n    (fc_relu2): ReLU()\n    (fc_3): Linear(in_features=64, out_features=10, bias=True)\n  )\n)"
     },
     "execution_count": 2,
     "metadata": {},
     "output_type": "execute_result"
    }
   ],
   "source": [
    "class SimpleCNN(nn.Module):\n",
    "    \n",
    "    def __init__(self):\n",
    "        # b, 3, 32, 32\n",
    "        super().__init__()\n",
    "        \n",
    "        layer1 = nn.Sequential()\n",
    "        # b, 3, 32, 32 -> b, 32, (32+2*1 -(3-1)-1)/1 +1 = 32\n",
    "        layer1.add_module('conv_1', nn.Conv2d(in_channels=3,out_channels=32, \n",
    "                                              kernel_size=3, stride=1, padding=1))\n",
    "        layer1.add_module('relu_1', nn.ReLU(True))\n",
    "        layer1.add_module('pool_1', nn.MaxPool2d(2,2)) # b, 32, 16,16\n",
    "        self.layer1 = layer1\n",
    "        \n",
    "\n",
    "        layer2 = nn.Sequential()\n",
    "        # b, 32, 16, 16 -> b, 64, (16+2 - 3)/1 +1 = 16 \n",
    "        layer2.add_module('conv_2', nn.Conv2d(in_channels=32,out_channels=64, \n",
    "                                              kernel_size=3, stride=1, padding=1))\n",
    "        layer2.add_module('relu_2', nn.ReLU(True))\n",
    "        layer2.add_module('pool_2', nn.MaxPool2d(2,2)) # b, 64, 8 ,8  \n",
    "        self.layer2 = layer2\n",
    "        \n",
    "        \n",
    "        layer3 = nn.Sequential()\n",
    "        # b, 64, 8, 8 -> b, 128, (8 + 2 - 3)/1 +1 = 8 \n",
    "        layer3.add_module('conv_3', nn.Conv2d(in_channels=64,out_channels=128, \n",
    "                                              kernel_size=3, stride=1, padding=1))\n",
    "        layer3.add_module('relu_3', nn.ReLU(True))\n",
    "        layer3.add_module('pool_3', nn.MaxPool2d(2,2)) # b, 128, 4 ,4  \n",
    "        self.layer3 = layer3\n",
    "        \n",
    "        # if b ==1 :  b* 128*4*4 = 2048\n",
    "        layer4 = nn.Sequential()\n",
    "        layer4.add_module('fc_1', nn.Linear(2048, 512))\n",
    "        layer4.add_module('fc_relu1', nn.ReLU())\n",
    "        layer4.add_module('fc_2', nn.Linear(512, 64))\n",
    "        layer4.add_module('fc_relu2', nn.ReLU())\n",
    "        layer4.add_module('fc_3', nn.Linear(64,10))\n",
    "        self.layer4 = layer4\n",
    "        \n",
    "    def forward(self,x):\n",
    "        conv1 = self.layer1(x)\n",
    "        conv2 = self.layer2(conv1)\n",
    "        conv3 = self.layer3(conv2)\n",
    "        \n",
    "        fc_input = conv3.view(conv3.size(0),-1) # batch size \n",
    "        fc_out = self.layer4(fc_input)\n",
    "        \n",
    "        return fc_out \n",
    "        \n",
    "model = SimpleCNN()\n",
    "model"
   ],
   "metadata": {
    "collapsed": false,
    "ExecuteTime": {
     "end_time": "2024-01-18T04:20:24.653298200Z",
     "start_time": "2024-01-18T04:20:24.637450400Z"
    }
   },
   "id": "c66680849ae78503"
  },
  {
   "cell_type": "code",
   "execution_count": null,
   "outputs": [],
   "source": [],
   "metadata": {
    "collapsed": false,
    "ExecuteTime": {
     "end_time": "2024-01-18T03:46:56.080512800Z",
     "start_time": "2024-01-18T03:46:56.077554100Z"
    }
   },
   "id": "6885439f9527bac9"
  }
 ],
 "metadata": {
  "kernelspec": {
   "display_name": "Python 3",
   "language": "python",
   "name": "python3"
  },
  "language_info": {
   "codemirror_mode": {
    "name": "ipython",
    "version": 2
   },
   "file_extension": ".py",
   "mimetype": "text/x-python",
   "name": "python",
   "nbconvert_exporter": "python",
   "pygments_lexer": "ipython2",
   "version": "2.7.6"
  }
 },
 "nbformat": 4,
 "nbformat_minor": 5
}
